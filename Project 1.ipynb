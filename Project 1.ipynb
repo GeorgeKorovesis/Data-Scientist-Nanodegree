{
 "cells": [
  {
   "cell_type": "code",
   "execution_count": 1,
   "id": "aa07d138",
   "metadata": {},
   "outputs": [],
   "source": [
    "import numpy as np\n",
    "import pandas as pd\n",
    "import matplotlib.pyplot as plt\n",
    "from sklearn.linear_model import LinearRegression\n",
    "from sklearn.model_selection import train_test_split\n",
    "from sklearn.metrics import r2_score, mean_squared_error\n",
    "%matplotlib inline\n",
    "\n",
    "df = pd.read_csv('./listings.csv')\n",
    "df.head()\n",
    "# my test\n",
    "df['host_response_rate'] = df['host_response_rate'].str.replace(r'%', r'.0').astype('float') \n",
    "df['host_acceptance_rate'] = df['host_acceptance_rate'].str.replace(r'%', r'.0').astype('float') \n",
    "# corr = df.corr()\n",
    "# corr.style.background_gradient(cmap='coolwarm')"
   ]
  },
  {
   "cell_type": "code",
   "execution_count": 2,
   "id": "0d358352",
   "metadata": {},
   "outputs": [],
   "source": [
    "def percentage(x):\n",
    "\treturn x/100.0\n"
   ]
  },
  {
   "cell_type": "code",
   "execution_count": 5,
   "id": "9233683d",
   "metadata": {},
   "outputs": [],
   "source": [
    "def clean_data(df):\n",
    "    '''\n",
    "    INPUT\n",
    "    df - pandas dataframe \n",
    "    \n",
    "    OUTPUT\n",
    "    X - A matrix holding all of the variables you want to consider when predicting the response\n",
    "    y - the corresponding response vector\n",
    "    \n",
    "    This function cleans df using the following steps to produce X and y:\n",
    "    1. Drop all the rows with no salaries\n",
    "    2. Create X as all the columns that are not the Salary column\n",
    "    3. Create y as the Salary column\n",
    "    4. Drop the Salary, Respondent, and the ExpectedSalary columns from X\n",
    "    5. For each numeric variable in X, fill the column with the mean value of the column.\n",
    "    6. Create dummy columns for all the categorical variables in X, drop the original columns\n",
    "    '''\n",
    "    # Drop rows with missing salary values\n",
    "    df = df.dropna(subset=['review_scores_rating'], axis=0)\n",
    "    y = df['review_scores_rating']\n",
    "    y = y.apply(percentage)\n",
    "    #Drop respondent and expected salary columns  \n",
    "    df = df[['host_response_time','host_response_rate','host_acceptance_rate','host_is_superhost','host_has_profile_pic']]\n",
    "    \n",
    "    # Fill numeric columns with the mean\n",
    "    num_vars = df.select_dtypes(include=['float', 'int']).columns\n",
    "    for col in num_vars:\n",
    "        df[col].fillna((df[col].mean()), inplace=True)\n",
    "    \n",
    "    # Dummy the categorical variables\n",
    "    cat_vars = df.select_dtypes(include=['object']).copy().columns\n",
    "    for var in  cat_vars:\n",
    "        # for each cat add dummy var, drop original column\n",
    "        df = pd.concat([df.drop(var, axis=1), pd.get_dummies(df[var], prefix=var, prefix_sep='_', drop_first=True)], axis=1)\n",
    "        \n",
    "    X = df\n",
    "    return X, y\n",
    "\n",
    "#Use the function to create X and y\n",
    "X, y = clean_data(df) \n"
   ]
  },
  {
   "cell_type": "code",
   "execution_count": 9,
   "id": "05ff1e67",
   "metadata": {},
   "outputs": [
    {
     "name": "stdout",
     "output_type": "stream",
     "text": [
      "R2 score = 0.07938697268574035\n",
      "Mean Square error score = 0.004668375856770024\n"
     ]
    },
    {
     "name": "stderr",
     "output_type": "stream",
     "text": [
      "/Users/georgekorovesis/Library/Python/3.8/lib/python/site-packages/sklearn/linear_model/_base.py:141: FutureWarning: 'normalize' was deprecated in version 1.0 and will be removed in 1.2.\n",
      "If you wish to scale the data, use Pipeline with a StandardScaler in a preprocessing stage. To reproduce the previous behavior:\n",
      "\n",
      "from sklearn.pipeline import make_pipeline\n",
      "\n",
      "model = make_pipeline(StandardScaler(with_mean=False), LinearRegression())\n",
      "\n",
      "If you wish to pass a sample_weight parameter, you need to pass it as a fit parameter to each step of the pipeline as follows:\n",
      "\n",
      "kwargs = {s[0] + '__sample_weight': sample_weight for s in model.steps}\n",
      "model.fit(X, y, **kwargs)\n",
      "\n",
      "\n",
      "  warnings.warn(\n"
     ]
    }
   ],
   "source": [
    "# Split data into training and test data, and fit a linear model\n",
    "X_train, X_test, y_train, y_test = train_test_split(X, y , test_size=.15, random_state=42)\n",
    "# pd.set_option(\"max_rows\", None)\n",
    "\n",
    "lm_2_model = LinearRegression(normalize=True)\n",
    "# If our model works, it should just fit our model to the data. Otherwise, it will let us know.\n",
    "try:\n",
    "    lm_2_model.fit(X_train, y_train)\n",
    "except Exception as e:\n",
    "    print(e)\n",
    "# print(X_train.head())\n",
    "y_test_preds = lm_2_model.predict(X_test)# Predictions here\n",
    "r2_test = r2_score(y_test, y_test_preds)\n",
    "print(\"R2 score =\",r2_test)\n",
    "mse = mean_squared_error(y_test, y_test_preds)\n",
    "print(\"Mean Square error score =\",mse)"
   ]
  },
  {
   "cell_type": "raw",
   "id": "495b4302",
   "metadata": {},
   "source": [
    "\n"
   ]
  },
  {
   "cell_type": "code",
   "execution_count": 66,
   "id": "1301d6b5",
   "metadata": {},
   "outputs": [
    {
     "name": "stdout",
     "output_type": "stream",
     "text": [
      "             hrr        har  hrtwad  hrtwafh  hrtwah  superhost  prof_pic  rating\n",
      "33     71.000000  100.00000       0        0       1          0         1    0.75\n",
      "940    70.000000  100.00000       0        1       0          0         1    0.75\n",
      "1133  100.000000  100.00000       0        0       1          0         1    0.75\n",
      "732    80.000000  100.00000       0        1       0          0         1    0.74\n",
      "2859  100.000000  100.00000       0        0       1          0         1    0.74\n",
      "718    80.000000  100.00000       0        1       0          0         1    0.73\n",
      "1190  100.000000  100.00000       1        0       0          0         1    0.73\n",
      "1126  100.000000   99.96288       1        0       0          0         1    0.73\n",
      "2777   43.000000  100.00000       0        0       0          0         1    0.73\n",
      "1512   88.000000  100.00000       1        0       0          0         1    0.73\n",
      "1153  100.000000   99.96288       0        1       0          0         1    0.73\n",
      "352    40.000000  100.00000       0        0       0          0         1    0.73\n",
      "2628   95.223155   99.96288       0        0       0          0         1    0.72\n",
      "2661   90.000000  100.00000       0        0       1          0         1    0.72\n",
      "1231   95.223155   99.96288       0        0       0          0         1    0.72\n",
      "911    70.000000  100.00000       0        1       0          0         1    0.72\n",
      "2232  100.000000  100.00000       0        0       1          0         1    0.71\n",
      "145    33.000000  100.00000       0        0       0          0         1    0.71\n",
      "1975  100.000000  100.00000       0        0       1          0         1    0.71\n",
      "2089  100.000000  100.00000       0        1       0          0         1    0.70\n",
      "805    80.000000  100.00000       0        1       0          0         1    0.70\n",
      "3614   90.000000  100.00000       0        0       1          0         1    0.70\n",
      "754    80.000000  100.00000       0        1       0          0         1    0.70\n",
      "2742   97.000000  100.00000       0        1       0          0         1    0.70\n",
      "2609   89.000000  100.00000       0        1       0          0         1    0.70\n",
      "2688   90.000000  100.00000       0        0       1          0         1    0.70\n",
      "2716   99.000000  100.00000       0        0       1          0         1    0.70\n",
      "756    80.000000  100.00000       0        1       0          0         1    0.68\n",
      "790   100.000000  100.00000       0        1       0          0         1    0.68\n",
      "2464   95.223155   99.96288       0        0       0          0         1    0.67\n",
      "1480   40.000000  100.00000       0        0       0          0         1    0.67\n",
      "716    80.000000  100.00000       0        1       0          0         1    0.66\n",
      "789    80.000000  100.00000       0        1       0          0         1    0.66\n",
      "2447   80.000000  100.00000       0        1       0          0         1    0.65\n",
      "750    80.000000  100.00000       0        1       0          0         1    0.64\n",
      "2723  100.000000   99.96288       0        0       1          0         1    0.60\n",
      "748    80.000000  100.00000       0        1       0          0         1    0.60\n",
      "1124   50.000000   99.96288       1        0       0          0         1    0.60\n",
      "2176   80.000000  100.00000       1        0       0          0         1    0.60\n",
      "1076  100.000000  100.00000       0        1       0          0         1    0.60\n",
      "969   100.000000  100.00000       0        0       1          1         1    0.60\n",
      "1188   67.000000   99.96288       0        1       0          0         1    0.60\n",
      "2495  100.000000  100.00000       0        1       0          0         1    0.60\n",
      "1520   40.000000  100.00000       0        0       0          0         1    0.60\n",
      "735    80.000000  100.00000       0        1       0          0         1    0.60\n",
      "806   100.000000  100.00000       0        1       0          0         1    0.60\n",
      "2776  100.000000  100.00000       0        0       1          0         1    0.60\n",
      "1972  100.000000  100.00000       0        0       1          0         1    0.57\n",
      "1219   97.000000  100.00000       0        1       0          0         1    0.55\n",
      "2474   86.000000  100.00000       0        0       1          0         1    0.53\n",
      "1162  100.000000  100.00000       0        1       0          0         1    0.40\n",
      "2320  100.000000  100.00000       0        0       1          0         1    0.40\n",
      "1666   40.000000  100.00000       0        0       0          0         1    0.40\n",
      "3148   95.223155   99.96288       0        0       0          0         1    0.40\n",
      "1222  100.000000  100.00000       0        0       1          0         1    0.20\n"
     ]
    }
   ],
   "source": [
    "X,y = clean_data(df) \n",
    "# print(X)\n",
    "# print(y)\n",
    "merged = X.merge(y.to_frame(), left_index=True, right_index=True)\n",
    "# print(\"Merged = \",merged)\n",
    "\n",
    "# newDf = pd.concat([X,y],ignore_index=True)\n",
    "# toBeSortedDF = newDf[['review_scores_rating','host_response_time','host_response_rate','host_acceptance_rate','host_is_superhost','host_has_profile_pic']]\n",
    "sortedDF = merged.sort_values(by=['review_scores_rating'],ascending=False)\n",
    "sortedDF = sortedDF.rename(columns={\"host_response_rate\": \"hrr\", \"host_acceptance_rate\": \"har\",\"host_response_time_within a day\": \"hrtwad\", \"host_response_time_within a few hours\": \"hrtwafh\",\n",
    "                        \"host_response_time_within an hour\": \"hrtwah\", \"host_is_superhost_t\" : \"superhost\", \"host_has_profile_pic_t\":\"prof_pic\", \"review_scores_rating\":\"rating\"})\n",
    "pd.set_option('display.width', 1000)\n",
    "pd.set_option('display.max_rows', None)\n",
    "# print(sortedDF.head(1000))\n",
    "# print(y.sort_values(ascending=True))\n",
    "# print(sortedDF[sortedDF['rating'].between(0, 0.8)])\n",
    "print(sortedDF[sortedDF['rating'].between(0, 0.75)])\n"
   ]
  },
  {
   "cell_type": "code",
   "execution_count": null,
   "id": "1fdb8be1",
   "metadata": {},
   "outputs": [],
   "source": []
  }
 ],
 "metadata": {
  "kernelspec": {
   "display_name": "Python 3 (ipykernel)",
   "language": "python",
   "name": "python3"
  },
  "language_info": {
   "codemirror_mode": {
    "name": "ipython",
    "version": 3
   },
   "file_extension": ".py",
   "mimetype": "text/x-python",
   "name": "python",
   "nbconvert_exporter": "python",
   "pygments_lexer": "ipython3",
   "version": "3.8.2"
  }
 },
 "nbformat": 4,
 "nbformat_minor": 5
}
